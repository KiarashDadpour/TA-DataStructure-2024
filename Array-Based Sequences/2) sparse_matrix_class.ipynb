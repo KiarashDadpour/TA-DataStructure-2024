{
 "cells": [
  {
   "cell_type": "code",
   "execution_count": 1,
   "id": "81c426da",
   "metadata": {},
   "outputs": [],
   "source": [
    "class SparseMatrix:\n",
    "    \"\"\"\n",
    "    A class for create and save matrices in sparse form.\n",
    "    \"\"\"\n",
    "\n",
    "    def __init__(self):\n",
    "        self.elements = []\n",
    "\n",
    "    def set_value(self, row, col, value):\n",
    "        \"\"\"\n",
    "        Set value for element in row = row and column = col.\n",
    "        \"\"\"\n",
    "        if value != 0:\n",
    "            self.elements.append([row, col, value])\n",
    "\n",
    "    def get_value(self, row, col):\n",
    "        \"\"\"\n",
    "        Get value of elements in row = row and column = col.\n",
    "        \"\"\"\n",
    "        for r, c, v in self.elements:\n",
    "            if r == row and c == col:\n",
    "                return v\n",
    "\n",
    "        return 0\n",
    "    \n",
    "    def update_value(self, row, col, new_value):\n",
    "        \"\"\"\n",
    "        Updates the value of an existing element or adds a new element.\n",
    "        \"\"\"\n",
    "        for i, (r, c, v) in enumerate(self.elements):\n",
    "            if r == row and c == col:\n",
    "                if new_value == 0:\n",
    "                    self.elements.pop(i)\n",
    "                else:\n",
    "                    self.elements[i][2] = new_value\n",
    "                return\n",
    "        if new_value != 0:\n",
    "            self.elements.append([row, col, new_value])    \n",
    "    \n",
    "    \n",
    "    def row_count(self):\n",
    "        \"\"\"\n",
    "        Number of rows.\n",
    "        \"\"\"\n",
    "        row_size = 0\n",
    "        for i in range(len(self.elements)):\n",
    "            if self.elements[i][0] > row_size:\n",
    "                row_size = self.elements[i][0]\n",
    "        return row_size\n",
    "\n",
    "    def col_count(self):\n",
    "        \"\"\"\n",
    "        Number of Columns.\n",
    "        \"\"\"\n",
    "        col_size = 0\n",
    "        for i in range(len(self.elements)):\n",
    "            if self.elements[i][1] > col_size:\n",
    "                col_size = self.elements[i][1]\n",
    "        return col_size\n",
    "\n",
    "    def non_zero_count(self):\n",
    "        \"\"\"\n",
    "        Number of non-zero elements in a matrix.\n",
    "        \"\"\"\n",
    "        return len(self.elements)\n",
    "\n",
    "    def size_check(self, other):\n",
    "        \"\"\"\n",
    "        If two matrix are not same size return False.\n",
    "        \"\"\"\n",
    "        if (self.row_count() == other.row_count()) and (self.col_count() == other.col_count()):\n",
    "            return True\n",
    "        return False\n",
    "\n",
    "    def sum_1(self, other):\n",
    "        \"\"\"\n",
    "        Adds two sparse matrices.\n",
    "        \"\"\"\n",
    "        if not self.size_check(other):\n",
    "            raise ValueError(\"Matrix dimensions do not match.\")\n",
    "\n",
    "        result = SparseMatrix()\n",
    "        for r, c, v in self.elements:\n",
    "            result.set_value(r, c, v)\n",
    "        for r, c, v in other.elements:\n",
    "            result.update_value(r, c, result.get_value(r, c) + v)\n",
    "        return result\n",
    "\n",
    "    def transpose(self):\n",
    "        \"\"\"\n",
    "        Return transpose of a sparse matrix.\n",
    "        \"\"\"\n",
    "        if not self.elements:\n",
    "            return \"Matrix is empty!!\"\n",
    "\n",
    "        transpose = SparseMatrix()\n",
    "        for r, c, v in self.elements:\n",
    "            transpose.set_value(c, r, v)\n",
    "        return transpose\n",
    "\n",
    "\n",
    "    def display(self):\n",
    "        \"\"\"\n",
    "        Display sparse form.\n",
    "        \"\"\"\n",
    "        col_size = self.col_count()\n",
    "        row_size = self.row_count()\n",
    "        non_zero = self.non_zero_count()\n",
    "        print(f\"row:{row_size + 1}   col:{col_size + 1}   n:{non_zero}\")\n",
    "        for r, c, v in self.elements:\n",
    "            print(f\"{r}       {c}       {v}\", end=\"       \")\n",
    "            print()\n",
    "\n",
    "    def display_mat(self):\n",
    "        \"\"\"\n",
    "        Display main matrix not sparse form.\n",
    "        \"\"\"\n",
    "        col_size = self.col_count()\n",
    "        row_size = self.row_count()\n",
    "        mat = []\n",
    "        for i in range(row_size + 1):\n",
    "            mat.append([0] * (col_size + 1))\n",
    "        for r, c, v in self.elements:\n",
    "            mat[r][c] = v\n",
    "        for j in mat:\n",
    "            print(j)"
   ]
  },
  {
   "cell_type": "code",
   "execution_count": 2,
   "id": "4d2ab671",
   "metadata": {
    "scrolled": true
   },
   "outputs": [
    {
     "name": "stdout",
     "output_type": "stream",
     "text": [
      "[0, 4, 0, 0, 0, 0, 0, 0]\n",
      "[4, 0, 0, 0, 0, 0, 0, 0]\n",
      "[0, 0, 0, 0, 0, 0, 0, 4]\n",
      "[0, 0, 0, 0, 0, 0, 0, 0]\n",
      "[0, 0, 3, 0, 0, 0, 0, 5]\n",
      "------------------------------\n",
      "row:5   col:8   n:5\n",
      "0       1       4       \n",
      "1       0       4       \n",
      "4       2       3       \n",
      "2       7       4       \n",
      "4       7       5       \n"
     ]
    }
   ],
   "source": [
    "M = SparseMatrix()\n",
    "M.set_value(0, 1, 4)\n",
    "M.set_value(1, 0, 4)\n",
    "M.set_value(4, 2, 3)\n",
    "M.set_value(2, 7, 4)\n",
    "M.set_value(4, 7, 5)\n",
    "M.display_mat()\n",
    "print('-' * 30)\n",
    "M.display()"
   ]
  },
  {
   "cell_type": "code",
   "execution_count": 3,
   "id": "0065c49e",
   "metadata": {},
   "outputs": [
    {
     "name": "stdout",
     "output_type": "stream",
     "text": [
      "[0, 4, 0, 0, 0]\n",
      "[4, 0, 0, 0, 0]\n",
      "[0, 0, 0, 0, 3]\n",
      "[0, 0, 0, 0, 0]\n",
      "[0, 0, 0, 0, 0]\n",
      "[0, 0, 0, 0, 0]\n",
      "[0, 0, 0, 0, 0]\n",
      "[0, 0, 4, 0, 5]\n",
      "------------------------------\n",
      "row:8   col:5   n:5\n",
      "1       0       4       \n",
      "0       1       4       \n",
      "2       4       3       \n",
      "7       2       4       \n",
      "7       4       5       \n"
     ]
    }
   ],
   "source": [
    "T = M.transpose()\n",
    "T.display_mat()\n",
    "print(\"-\" * 30)\n",
    "T.display()"
   ]
  },
  {
   "cell_type": "code",
   "execution_count": 4,
   "id": "91c65239",
   "metadata": {
    "scrolled": true
   },
   "outputs": [
    {
     "name": "stdout",
     "output_type": "stream",
     "text": [
      "[0, 0, 0, 0, 0, 0, 0, 0]\n",
      "[3, 0, 0, 0, 0, 0, 0, 0]\n",
      "[0, 7, 6, 8, 0, 0, 0, 0]\n",
      "[0, 0, 0, 0, 0, 0, 0, 0]\n",
      "[0, 0, 0, 0, 0, 0, 0, 1]\n",
      "------------------------------\n",
      "row:5   col:8   n:5\n",
      "1       0       3       \n",
      "2       1       7       \n",
      "2       2       6       \n",
      "2       3       8       \n",
      "4       7       1       \n"
     ]
    }
   ],
   "source": [
    "N = SparseMatrix()\n",
    "N.set_value(1, 0, 3)\n",
    "N.set_value(2, 1, 7)\n",
    "N.set_value(2, 2, 6)\n",
    "N.set_value(2, 3, 8)\n",
    "N.set_value(4, 7, 1)\n",
    "N.display_mat()\n",
    "print(\"-\" * 30)\n",
    "N.display()"
   ]
  },
  {
   "cell_type": "code",
   "execution_count": 5,
   "id": "c074ae60",
   "metadata": {},
   "outputs": [
    {
     "name": "stdout",
     "output_type": "stream",
     "text": [
      "[0, 4, 0, 0, 0, 0, 0, 0]\n",
      "[7, 0, 0, 0, 0, 0, 0, 0]\n",
      "[0, 7, 6, 8, 0, 0, 0, 4]\n",
      "[0, 0, 0, 0, 0, 0, 0, 0]\n",
      "[0, 0, 3, 0, 0, 0, 0, 6]\n",
      "------------------------------\n",
      "row:5   col:8   n:8\n",
      "0       1       4       \n",
      "1       0       7       \n",
      "4       2       3       \n",
      "2       7       4       \n",
      "4       7       6       \n",
      "2       1       7       \n",
      "2       2       6       \n",
      "2       3       8       \n"
     ]
    }
   ],
   "source": [
    "res = M.sum_1(N)\n",
    "res.display_mat()\n",
    "print(\"-\" * 30)\n",
    "res.display()"
   ]
  },
  {
   "cell_type": "code",
   "execution_count": 6,
   "id": "c8502ca3",
   "metadata": {},
   "outputs": [
    {
     "name": "stdout",
     "output_type": "stream",
     "text": [
      "0 apple\n",
      "1 banana\n",
      "2 cherry\n"
     ]
    }
   ],
   "source": [
    "fruits = ['apple', 'banana', 'cherry']\n",
    "\n",
    "for index, fruit in enumerate(fruits):\n",
    "    print(index, fruit)"
   ]
  }
 ],
 "metadata": {
  "kernelspec": {
   "display_name": "Python 3 (ipykernel)",
   "language": "python",
   "name": "python3"
  },
  "language_info": {
   "codemirror_mode": {
    "name": "ipython",
    "version": 3
   },
   "file_extension": ".py",
   "mimetype": "text/x-python",
   "name": "python",
   "nbconvert_exporter": "python",
   "pygments_lexer": "ipython3",
   "version": "3.11.4"
  }
 },
 "nbformat": 4,
 "nbformat_minor": 5
}
