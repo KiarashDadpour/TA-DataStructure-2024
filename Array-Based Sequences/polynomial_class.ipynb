{
 "cells": [
  {
   "cell_type": "code",
   "execution_count": 1,
   "id": "de18275e",
   "metadata": {},
   "outputs": [],
   "source": [
    "class Polynomials:\n",
    "    \"\"\"\n",
    "    This class is for save and work with polynomials.\n",
    "    \"\"\"\n",
    "    def __init__(self, coef):\n",
    "        self.coef = coef\n",
    "\n",
    "    def display(self):\n",
    "        \"\"\"\n",
    "        Display polynomial.\n",
    "        \"\"\"\n",
    "        res = []\n",
    "        for i in range(len(self.coef)-1, -1, -1):\n",
    "            if self.coef[i] != 0:\n",
    "                if i == 0:\n",
    "                    res.append(f\"{self.coef[i]}\")\n",
    "                else:\n",
    "                    res.append(f\"{self.coef[i]} x^{i}\")\n",
    "        print(\" + \".join(res))\n",
    "\n",
    "\n"
   ]
  },
  {
   "cell_type": "code",
   "execution_count": 2,
   "id": "33bb2f4c",
   "metadata": {
    "scrolled": true
   },
   "outputs": [
    {
     "name": "stdout",
     "output_type": "stream",
     "text": [
      "7 x^4 + 4 x^3 + 4 x^1 + 1\n"
     ]
    }
   ],
   "source": [
    "A = Polynomials([1, 4, 0, 4, 7])\n",
    "A.display()"
   ]
  }
 ],
 "metadata": {
  "kernelspec": {
   "display_name": "Python 3 (ipykernel)",
   "language": "python",
   "name": "python3"
  },
  "language_info": {
   "codemirror_mode": {
    "name": "ipython",
    "version": 3
   },
   "file_extension": ".py",
   "mimetype": "text/x-python",
   "name": "python",
   "nbconvert_exporter": "python",
   "pygments_lexer": "ipython3",
   "version": "3.11.4"
  }
 },
 "nbformat": 4,
 "nbformat_minor": 5
}
