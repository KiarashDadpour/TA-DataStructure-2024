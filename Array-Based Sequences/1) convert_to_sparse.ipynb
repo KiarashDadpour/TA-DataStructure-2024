{
 "cells": [
  {
   "cell_type": "code",
   "execution_count": 11,
   "id": "2f9eeead",
   "metadata": {},
   "outputs": [],
   "source": [
    "def convert_to_sparse(A, row, col):\n",
    "    mat = []\n",
    "    \n",
    "    for i in range(row):\n",
    "        for j in range(col):\n",
    "            if A[i][j] != 0:\n",
    "                mat.append([i, j, A[i][j]])\n",
    "    mat.insert(0 ,[row, col, len(mat)])  # The first line of sparse matrix \n",
    "    return mat\n",
    "\n",
    "def display(mat):\n",
    "    for i in mat:\n",
    "        print(i)\n",
    "  "
   ]
  },
  {
   "cell_type": "code",
   "execution_count": 12,
   "id": "58a2ca06",
   "metadata": {},
   "outputs": [
    {
     "name": "stdout",
     "output_type": "stream",
     "text": [
      "[4, 3, 4]\n",
      "[0, 1, 2]\n",
      "[0, 2, 3]\n",
      "[1, 0, 4]\n",
      "[2, 1, 8]\n"
     ]
    }
   ],
   "source": [
    "A = [[0, 2, 3], \n",
    "    [4, 0, 0], \n",
    "    [0, 8, 0],\n",
    "    [0, 0, 0]]\n",
    "\n",
    "mat = convert_to_sparse(A, 4, 3)\n",
    "display(mat)  "
   ]
  },
  {
   "cell_type": "code",
   "execution_count": 13,
   "id": "578e0a75",
   "metadata": {},
   "outputs": [
    {
     "name": "stdout",
     "output_type": "stream",
     "text": [
      "[10, 10, 5]\n",
      "[1, 7, 42]\n",
      "[2, 3, 15]\n",
      "[4, 4, 70]\n",
      "[6, 5, 23]\n",
      "[9, 9, 11]\n"
     ]
    }
   ],
   "source": [
    "B = [[0, 0, 0, 0, 0, 0, 0, 0, 0, 0],\n",
    "    [0, 0, 0, 0, 0, 0, 0, 42, 0, 0],\n",
    "    [0, 0, 0, 15, 0, 0, 0, 0, 0, 0],\n",
    "    [0, 0, 0, 0, 0, 0, 0, 0, 0, 0],\n",
    "    [0, 0, 0, 0, 70, 0, 0, 0, 0, 0],\n",
    "    [0, 0, 0, 0, 0, 0, 0, 0, 0, 0],\n",
    "    [0, 0, 0, 0, 0, 23, 0, 0, 0, 0],\n",
    "    [0, 0, 0, 0, 0, 0, 0, 0, 0, 0],\n",
    "    [0, 0, 0, 0, 0, 0, 0, 0, 0, 0],\n",
    "    [0, 0, 0, 0, 0, 0, 0, 0, 0, 11]]\n",
    "\n",
    "mat = convert_to_sparse(B, 10, 10)\n",
    "\n",
    "display(mat)  "
   ]
  }
 ],
 "metadata": {
  "kernelspec": {
   "display_name": "Python 3 (ipykernel)",
   "language": "python",
   "name": "python3"
  },
  "language_info": {
   "codemirror_mode": {
    "name": "ipython",
    "version": 3
   },
   "file_extension": ".py",
   "mimetype": "text/x-python",
   "name": "python",
   "nbconvert_exporter": "python",
   "pygments_lexer": "ipython3",
   "version": "3.11.4"
  }
 },
 "nbformat": 4,
 "nbformat_minor": 5
}
