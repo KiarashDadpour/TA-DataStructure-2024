{
 "cells": [
  {
   "cell_type": "markdown",
   "id": "849f698c",
   "metadata": {},
   "source": [
    "### 1) Merge Sort"
   ]
  },
  {
   "cell_type": "code",
   "execution_count": 1,
   "id": "12f642c9",
   "metadata": {},
   "outputs": [],
   "source": [
    "def merge_sort(arr):\n",
    "    \n",
    "    if len(arr) > 1:\n",
    "        mid = len(arr) // 2  \n",
    "        left_half = arr[:mid] \n",
    "        right_half = arr[mid:]  \n",
    "        \n",
    "        merge_sort(left_half)  \n",
    "        merge_sort(right_half)  \n",
    "\n",
    "        i = j = k = 0\n",
    "\n",
    "        while i < len(left_half) and j < len(right_half):\n",
    "            if left_half[i] < right_half[j]:\n",
    "                arr[k] = left_half[i]\n",
    "                i += 1\n",
    "            else:\n",
    "                arr[k] = right_half[j]\n",
    "                j += 1\n",
    "            k += 1\n",
    "\n",
    "        while i < len(left_half):\n",
    "            arr[k] = left_half[i]\n",
    "            i += 1\n",
    "            k += 1\n",
    "\n",
    "        while j < len(right_half):\n",
    "            arr[k] = right_half[j]\n",
    "            j += 1\n",
    "            k += 1\n",
    "            \n",
    "    return arr"
   ]
  },
  {
   "cell_type": "code",
   "execution_count": 2,
   "id": "fae212c2",
   "metadata": {},
   "outputs": [
    {
     "data": {
      "text/plain": [
       "[2, 12, 25, 37, 41, 71, 97]"
      ]
     },
     "execution_count": 2,
     "metadata": {},
     "output_type": "execute_result"
    }
   ],
   "source": [
    "arr = [71, 2, 41, 37, 97, 12, 25]\n",
    "merge_sort(arr)"
   ]
  },
  {
   "cell_type": "markdown",
   "id": "82c69dea",
   "metadata": {},
   "source": [
    "### 2) Heap Sort"
   ]
  },
  {
   "cell_type": "code",
   "execution_count": 3,
   "id": "55c15313",
   "metadata": {},
   "outputs": [],
   "source": [
    "def heapify(arr, n, i):\n",
    "    largest = i  \n",
    "    left = 2 * i + 1  \n",
    "    right = 2 * i + 2  \n",
    "\n",
    "    if left < n and arr[left] > arr[largest]:\n",
    "        largest = left\n",
    "\n",
    "    if right < n and arr[right] > arr[largest]:\n",
    "        largest = right\n",
    "\n",
    "    if largest != i:\n",
    "        arr[i], arr[largest] = arr[largest], arr[i]\n",
    "\n",
    "        heapify(arr, n, largest)\n",
    "\n",
    "def heap_sort(arr):\n",
    "    n = len(arr)\n",
    "\n",
    "    for i in range(n // 2 - 1, -1, -1):\n",
    "        heapify(arr, n, i)\n",
    "\n",
    "    for i in range(n - 1, 0, -1):\n",
    "        arr[i], arr[0] = arr[0], arr[i]  \n",
    "        heapify(arr, i, 0)  \n",
    "    return arr"
   ]
  },
  {
   "cell_type": "code",
   "execution_count": 4,
   "id": "6f6ebc2e",
   "metadata": {},
   "outputs": [
    {
     "data": {
      "text/plain": [
       "[1, 19, 24, 33, 39, 46, 51, 71, 91]"
      ]
     },
     "execution_count": 4,
     "metadata": {},
     "output_type": "execute_result"
    }
   ],
   "source": [
    "arr = [33, 51, 1, 24, 71, 19, 91, 46, 39]\n",
    "heap_sort(arr)"
   ]
  },
  {
   "cell_type": "markdown",
   "id": "e7be2be8",
   "metadata": {},
   "source": [
    "### 3) O(log n)"
   ]
  },
  {
   "cell_type": "markdown",
   "id": "2b4a65a4",
   "metadata": {},
   "source": [
    "#### چون ارایه ورودی مرتب نیست نمیتوان الگوریتم جستجویی را پیاده سازی کرد که پیچیدگی زمانی ان از پیجیدگی خواسته شده باشد  "
   ]
  },
  {
   "cell_type": "markdown",
   "id": "b60357e7",
   "metadata": {},
   "source": [
    "### 4) Optimized Bubble Sort"
   ]
  },
  {
   "cell_type": "code",
   "execution_count": 5,
   "id": "0ea5d058",
   "metadata": {},
   "outputs": [],
   "source": [
    "def bubble_sort(arr):\n",
    "    n = len(arr)\n",
    "    for i in range(n):\n",
    "        swapped = False  \n",
    "        for j in range(0, n-i-1):\n",
    "            if arr[j] > arr[j+1]:  \n",
    "                arr[j], arr[j+1] = arr[j+1], arr[j]  \n",
    "                swapped = True  \n",
    "        if not swapped:  \n",
    "            break \n",
    "    return arr"
   ]
  },
  {
   "cell_type": "code",
   "execution_count": 6,
   "id": "f3fca0f5",
   "metadata": {},
   "outputs": [
    {
     "data": {
      "text/plain": [
       "[5, 15, 17, 24, 36, 47, 62, 75]"
      ]
     },
     "execution_count": 6,
     "metadata": {},
     "output_type": "execute_result"
    }
   ],
   "source": [
    "arr = [5, 15, 17, 24, 36, 47, 62, 75]\n",
    "bubble_sort(arr)"
   ]
  }
 ],
 "metadata": {
  "kernelspec": {
   "display_name": "Python 3 (ipykernel)",
   "language": "python",
   "name": "python3"
  },
  "language_info": {
   "codemirror_mode": {
    "name": "ipython",
    "version": 3
   },
   "file_extension": ".py",
   "mimetype": "text/x-python",
   "name": "python",
   "nbconvert_exporter": "python",
   "pygments_lexer": "ipython3",
   "version": "3.11.4"
  }
 },
 "nbformat": 4,
 "nbformat_minor": 5
}
