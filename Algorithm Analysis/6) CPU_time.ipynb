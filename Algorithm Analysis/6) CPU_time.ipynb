{
 "cells": [
  {
   "cell_type": "code",
   "execution_count": null,
   "id": "3154bbf6",
   "metadata": {},
   "outputs": [],
   "source": [
    "import time\n",
    "def loop(n):\n",
    "    for i in range(n):\n",
    "        A = generate_list(50)\n",
    "        counting_sort(A)\n",
    "    return True\n",
    "start = time.process_time()\n",
    "loop(50_000)\n",
    "end = time.process_time()\n",
    "\n",
    "used_time = end - start\n",
    "used_time\n"
   ]
  }
 ],
 "metadata": {
  "kernelspec": {
   "display_name": "Python 3 (ipykernel)",
   "language": "python",
   "name": "python3"
  },
  "language_info": {
   "codemirror_mode": {
    "name": "ipython",
    "version": 3
   },
   "file_extension": ".py",
   "mimetype": "text/x-python",
   "name": "python",
   "nbconvert_exporter": "python",
   "pygments_lexer": "ipython3",
   "version": "3.10.9"
  }
 },
 "nbformat": 4,
 "nbformat_minor": 5
}
