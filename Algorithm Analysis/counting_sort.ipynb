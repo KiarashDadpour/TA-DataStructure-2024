{
 "cells": [
  {
   "cell_type": "code",
   "execution_count": 1,
   "id": "a63449b3",
   "metadata": {},
   "outputs": [],
   "source": [
    "def counting_sort(A): \n",
    "    n = len(A)\n",
    "    m = max(A)\n",
    "    count = [0] * (m + 1)\n",
    "    for i in A:\n",
    "        count[i] += 1\n",
    "    res = []\n",
    "    k = 0\n",
    "    for i in count:\n",
    "        res += [k] * i\n",
    "        k += 1\n",
    "    return res"
   ]
  },
  {
   "cell_type": "code",
   "execution_count": 2,
   "id": "2d63ee91",
   "metadata": {
    "scrolled": true
   },
   "outputs": [
    {
     "data": {
      "text/plain": [
       "[0, 0, 1, 1, 1, 1, 1, 2, 2, 2, 2, 3, 3, 4, 5, 5]"
      ]
     },
     "execution_count": 2,
     "metadata": {},
     "output_type": "execute_result"
    }
   ],
   "source": [
    "A = [2, 1, 1, 2, 5, 0, 2, 1, 3, 0, 5, 1, 3, 4, 2, 1]\n",
    "counting_sort(A)"
   ]
  }
 ],
 "metadata": {
  "kernelspec": {
   "display_name": "Python 3 (ipykernel)",
   "language": "python",
   "name": "python3"
  },
  "language_info": {
   "codemirror_mode": {
    "name": "ipython",
    "version": 3
   },
   "file_extension": ".py",
   "mimetype": "text/x-python",
   "name": "python",
   "nbconvert_exporter": "python",
   "pygments_lexer": "ipython3",
   "version": "3.10.9"
  }
 },
 "nbformat": 4,
 "nbformat_minor": 5
}
