{
 "cells": [
  {
   "cell_type": "code",
   "execution_count": 7,
   "id": "e09743d4",
   "metadata": {},
   "outputs": [],
   "source": [
    "def selection_sort(A):\n",
    "    n = len(A)\n",
    "    for i in range(n):\n",
    "        m_index = i\n",
    "        for j in range(i + 1, n):\n",
    "            if A[m_index] > A[j]:\n",
    "                m_index = j\n",
    "        A[m_index], A[i] = A[i], A[m_index]\n",
    "    return A"
   ]
  },
  {
   "cell_type": "code",
   "execution_count": 8,
   "id": "df5654c5",
   "metadata": {},
   "outputs": [
    {
     "data": {
      "text/plain": [
       "[-3, 6, 7, 10, 18, 25, 41, 43, 50, 67]"
      ]
     },
     "execution_count": 8,
     "metadata": {},
     "output_type": "execute_result"
    }
   ],
   "source": [
    "A = [7, 6, 50, 41,-3, 18, 43, 67, 10, 25]\n",
    "selection_sort(arr)"
   ]
  }
 ],
 "metadata": {
  "kernelspec": {
   "display_name": "Python 3 (ipykernel)",
   "language": "python",
   "name": "python3"
  },
  "language_info": {
   "codemirror_mode": {
    "name": "ipython",
    "version": 3
   },
   "file_extension": ".py",
   "mimetype": "text/x-python",
   "name": "python",
   "nbconvert_exporter": "python",
   "pygments_lexer": "ipython3",
   "version": "3.10.9"
  }
 },
 "nbformat": 4,
 "nbformat_minor": 5
}
