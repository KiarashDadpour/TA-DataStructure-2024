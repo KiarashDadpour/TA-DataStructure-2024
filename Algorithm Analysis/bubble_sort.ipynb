{
 "cells": [
  {
   "cell_type": "code",
   "execution_count": 42,
   "id": "f9613d64",
   "metadata": {},
   "outputs": [
    {
     "name": "stdout",
     "output_type": "stream",
     "text": [
      "[5, 7, 8, 10, 10]\n"
     ]
    },
    {
     "data": {
      "text/plain": [
       "[5, 7, 8, 10, 10]"
      ]
     },
     "execution_count": 42,
     "metadata": {},
     "output_type": "execute_result"
    }
   ],
   "source": [
    "def bubble_sort(A):\n",
    "    n = len(A)\n",
    "    for j in range(1, n):\n",
    "        for i in range(j, n):\n",
    "            if A[i] < A[i - 1]:\n",
    "                A[i], A[i - 1] = A[i - 1], A[i]\n",
    "                print(A)\n",
    "    return A\n",
    "\n",
    "A = [5, 7, 10, 8, 10]\n",
    "bubble_sort(A)"
   ]
  },
  {
   "cell_type": "code",
   "execution_count": 52,
   "id": "f4759ead",
   "metadata": {},
   "outputs": [
    {
     "name": "stdout",
     "output_type": "stream",
     "text": [
      "[1, 8, 2, 7, 77, 59]\n",
      "[8, 1, 2, 7, 77, 59]\n",
      "[8, 2, 1, 7, 77, 59]\n",
      "[8, 2, 7, 1, 77, 59]\n",
      "[8, 2, 7, 77, 1, 59]\n",
      "[8, 2, 7, 77, 59, 1]\n",
      "[8, 2, 7, 77, 59, 1]\n",
      "[8, 7, 2, 77, 59, 1]\n",
      "[8, 7, 77, 2, 59, 1]\n",
      "[8, 7, 77, 59, 2, 1]\n",
      "[8, 7, 77, 59, 2, 1]\n",
      "[8, 77, 7, 59, 2, 1]\n",
      "[8, 77, 59, 7, 2, 1]\n",
      "[77, 8, 59, 7, 2, 1]\n",
      "[77, 59, 8, 7, 2, 1]\n",
      "[77, 59, 8, 7, 2, 1]\n"
     ]
    },
    {
     "data": {
      "text/plain": [
       "[77, 59, 8, 7, 2, 1]"
      ]
     },
     "execution_count": 52,
     "metadata": {},
     "output_type": "execute_result"
    }
   ],
   "source": [
    "def bubble_sort(A):\n",
    "    n = len(A)\n",
    "    for i in range(n):\n",
    "        for j in range(0, n - i - 1):\n",
    "            if A[j] > A[j + 1]:\n",
    "                A[j], A[j + 1] = A[j + 1], A[j]\n",
    "            print(A)\n",
    "    return A\n",
    "\n",
    "#A = [5, 7, 1, 8, 13, 17, 18, 0, 16, -9]\n",
    "A = [1, 8, 2, 7, 77, 59]\n",
    "print(A)\n",
    "bubble_sort(A)\n",
    "            "
   ]
  }
 ],
 "metadata": {
  "kernelspec": {
   "display_name": "Python 3 (ipykernel)",
   "language": "python",
   "name": "python3"
  },
  "language_info": {
   "codemirror_mode": {
    "name": "ipython",
    "version": 3
   },
   "file_extension": ".py",
   "mimetype": "text/x-python",
   "name": "python",
   "nbconvert_exporter": "python",
   "pygments_lexer": "ipython3",
   "version": "3.10.9"
  }
 },
 "nbformat": 4,
 "nbformat_minor": 5
}
